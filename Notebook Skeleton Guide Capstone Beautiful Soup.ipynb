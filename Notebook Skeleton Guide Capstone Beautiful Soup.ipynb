{
 "cells": [
  {
   "cell_type": "markdown",
   "metadata": {},
   "source": [
    "# Capstone Webscrapping using BeautifulSoup\n",
    "\n",
    "This notebook contains guidances & tasks on the data processing for the application\n",
    "\n",
    "## background\n",
    "\n",
    "Data historikal kurs dolar yang 'up to date' sangat penting bagi para pelaku pasar. Melalui analisis tren dan pergerakan pasar, data ini memungkinkan untuk mengidentifikasi pola perubahan nilai tukar, memperoleh wawasan tentang risiko pasar, dan membuat keputusan investasi yang terinformasi, maupun menemukan peluang-peluang investasi.\n",
    "\n",
    "Maka dari itu diperlukan 'tools' yang mudah digunakan, data aktual, dan informatif untuk menunjukkan data istorikal kurs dolar tersebut. Pada projek ini ditujukan untuk memenuhi kebutuhan tersebut dengan membangun UI yang mudah diakses untuk mendapatkan informasi data historikal tersebut\n",
    "\n",
    "## Requesting the Data and Creating a BeautifulSoup\n",
    "\n",
    "Let's begin with requesting the web from the site with `get` method."
   ]
  },
  {
   "cell_type": "code",
   "execution_count": 50,
   "metadata": {
    "ExecuteTime": {
     "end_time": "2020-01-13T05:12:23.275508Z",
     "start_time": "2020-01-13T05:12:20.009898Z"
    }
   },
   "outputs": [],
   "source": [
    "import requests\n",
    "\n",
    "url_get = requests.get('https://www.exchange-rates.org/exchange-rate-history/usd-idr')"
   ]
  },
  {
   "cell_type": "markdown",
   "metadata": {},
   "source": [
    "To visualize what exactly you get from the `request.get`, we can use .content so ee what we exactly get, in here i slice it so it won't make our screen full of the html we get from the page. You can delete the slicing if you want to see what we fully get."
   ]
  },
  {
   "cell_type": "code",
   "execution_count": 51,
   "metadata": {
    "ExecuteTime": {
     "end_time": "2020-01-13T05:12:23.290648Z",
     "start_time": "2020-01-13T05:12:23.277650Z"
    }
   },
   "outputs": [
    {
     "data": {
      "text/plain": [
       "b'!DOCTYPE html>\\r\\n<!--[if lt IE 9]>\\r\\n<html class=\"no-js ie8 oldie\" lang=\"en\" xml:lang=\\'en\\'>\\r\\n<![endif]-->\\r\\n<!--[if gt IE 8]><!--><html class=\"no-js\" lang=\"en\" xml:lang=\\'en\\'><!--<![endif]-->\\r\\n<head>\\r\\n<title>USD to IDR exchange rate history</title>\\r\\n<meta http-equiv=\"X-UA-Compatible\" content=\"IE=edge\">\\r\\n<meta name=\"viewport\" content=\"width=device-width, initial-scale=1, maximum-scale=5\">\\r\\n<meta charset=\"utf-8\" /><meta http-equiv=\"Content-Type\" content=\"text/html; charset=utf-8\" />\\r\\n<base href=\"http'"
      ]
     },
     "execution_count": 51,
     "metadata": {},
     "output_type": "execute_result"
    }
   ],
   "source": [
    "url_get.content[1:500]"
   ]
  },
  {
   "cell_type": "markdown",
   "metadata": {},
   "source": [
    "As we can see we get a very unstructured and complex html, which actually contains the codes needed to show the webpages on your web browser. But we as human still confused what and where we can use that piece of code, so here where we use the beautifulsoup. Beautiful soup class will result a beautifulsoup object. Beautiful Soup transforms a complex HTML document into a complex tree of Python objects. \n",
    "\n",
    "Let's make Beautiful soup object and feel free to explore the object here."
   ]
  },
  {
   "cell_type": "code",
   "execution_count": 52,
   "metadata": {
    "ExecuteTime": {
     "end_time": "2020-01-13T05:12:23.808122Z",
     "start_time": "2020-01-13T05:12:23.292610Z"
    }
   },
   "outputs": [],
   "source": [
    "from bs4 import BeautifulSoup \n",
    "\n",
    "soup = BeautifulSoup(url_get.content,\"html.parser\")"
   ]
  },
  {
   "cell_type": "markdown",
   "metadata": {},
   "source": [
    "## Finding the right key to scrap the data & Extracting the right information"
   ]
  },
  {
   "cell_type": "markdown",
   "metadata": {},
   "source": [
    "Terlihat pada website bahwa tabel yang berisi data terdapat pada class *history-rates-data*. maka pada langkah ini kita masukkan pada metode find."
   ]
  },
  {
   "cell_type": "code",
   "execution_count": 64,
   "metadata": {
    "ExecuteTime": {
     "end_time": "2020-01-13T05:12:23.878904Z",
     "start_time": "2020-01-13T05:12:23.854974Z"
    }
   },
   "outputs": [
    {
     "name": "stdout",
     "output_type": "stream",
     "text": [
      "table border=\"0\" cellpadding=\"0\" cellspacing=\"0\" class=\"history-rates-data\">\n",
      " <thead>\n",
      "  <tr>\n",
      "   <th class=\"ltr-bidi-fix\">\n",
      "    Date\n",
      "   </th>\n",
      "   <th class=\"ltr-bidi-fix\">\n",
      "    US Dollar to Indonesian Rupiah\n",
      "   </th>\n",
      "  </tr>\n",
      " </thead>\n",
      " <tbody>\n",
      "  <tr>\n",
      "   <td>\n",
      "    <a class=\"w\" href=\"/exchange-rate-history/usd-idr-2023-12-14\">\n",
      "     December 14, 2023\n",
      "    </a>\n",
      "    <a class=\"n\" href=\"/exchange-rate-history/usd-idr-2023-12-14\">\n",
      "     2023-12-14\n",
      "    </a>\n",
      "   </td>\n",
      "   <td>\n",
      "    <span class=\"w\">\n",
      "     <span class=\"nowrap\">\n",
      "      <span class=\"currencySymbol\">\n",
      "       $\n",
      "      </span>\n",
      "      1 =\n",
      "     </span>\n",
      "     <span class=\"nowrap\">\n",
      "      <span class=\"currencySymbol\">\n",
      "       Rp\n",
      "      </span>\n",
      "      15,476\n",
      "     <\n"
     ]
    }
   ],
   "source": [
    "table = soup.find(class_=\"history-rates-data\")\n",
    "print(table.prettify()[1:700])"
   ]
  },
  {
   "cell_type": "markdown",
   "metadata": {},
   "source": [
    " ***Mencari Row Length***\n",
    "\n",
    " Diperlukan untuk mengetahui seberapa banyak data yang ada didalam website maka perlu diambil ada berapa banyak row pada tabel tersebet. Data dalam tabel row tersebut tersimpan dalam section class *n* dalam class tersebut terdapat 2 section yang memisahkan antara data tanggal dengan data rate tukar yaitu section a dan span. Maka diambil salah satu saja untuk menemukan banyak row"
   ]
  },
  {
   "cell_type": "code",
   "execution_count": 54,
   "metadata": {},
   "outputs": [
    {
     "data": {
      "text/plain": [
       "129"
      ]
     },
     "execution_count": 54,
     "metadata": {},
     "output_type": "execute_result"
    }
   ],
   "source": [
    "exchange_rate = table.find_all('span', class_='n')\n",
    "row_length = len(exchange_rate)\n",
    "row_length"
   ]
  },
  {
   "cell_type": "markdown",
   "metadata": {},
   "source": [
    "Seperti yang sudah dijelaskan diatas bahwa sudah ditemukan lokasi data. yang diperlukan hanya untuk mescrape data tersebut dengan proses scrapping dibawah"
   ]
  },
  {
   "cell_type": "code",
   "execution_count": null,
   "metadata": {
    "ExecuteTime": {
     "end_time": "2020-01-13T05:12:24.008256Z",
     "start_time": "2020-01-13T05:12:23.980358Z"
    }
   },
   "outputs": [],
   "source": [
    "temp = [] #initiating a tuple\n",
    "\n",
    "for i in range(1, row_length):\n",
    "\n",
    "    #scrapping process\n",
    "\n",
    "    #get date\n",
    "    date = table.find_all('a', class_='n')[i].text\n",
    "    #get rate\n",
    "    rate = table.find_all('span', class_='n')[i].text[7:]\n",
    "    rate = rate.replace(',','')\n",
    "\n",
    "    temp.append((date,rate))\n",
    "temp"
   ]
  },
  {
   "cell_type": "markdown",
   "metadata": {},
   "source": [
    "Metode scrape diatas secara sederhana untuk mengambil data pada tabel date dan nilai tukar. pada bagian pengambilan data tanggal sangat sederhana yaitu menggunakan proses *for loop* untuk mengambil data tanggal sebanyak jumlah row yang sudah di temukan pada bagian sebelumnya dan hanya mengambil bagian textnya saja.\n",
    "\n",
    "Ada tantangan pada pengambilan data rate tukar yang dimana didalam tabel data tertulis \"1$ = Rp15,xxx\". ketika ingin di visualisasikan diperlukan data tersebut berbentuk number maka perlu diatur cara pengambilan. Perlu diketahui bahwa data yang dibutuhkan hanya \"15,xxx\" yang dilakukan adalah dengan memodifikasi .text untuk mengambil karakter ke-7 (python menghitung mulai dari 0) maka ekstrak '.text[7: ]'. perlu dilakukan penghilangan , dengan fungsi replace agar data dapat diubah tipenya menjadi number.\n",
    "\n",
    "Lalu kita gunakan metode append untuk memasukkan setiap baris data untuk dimasukkan pada list temp yang sebelumnya sudah di buat."
   ]
  },
  {
   "cell_type": "markdown",
   "metadata": {},
   "source": [
    "## Creating data frame & Data wrangling"
   ]
  },
  {
   "cell_type": "markdown",
   "metadata": {},
   "source": [
    "Memasukkan array diatas menjadi dataframe menggunakan pandas"
   ]
  },
  {
   "cell_type": "code",
   "execution_count": 56,
   "metadata": {
    "ExecuteTime": {
     "end_time": "2020-01-13T05:12:41.517372Z",
     "start_time": "2020-01-13T05:12:29.130015Z"
    }
   },
   "outputs": [
    {
     "data": {
      "text/html": [
       "<div>\n",
       "<style scoped>\n",
       "    .dataframe tbody tr th:only-of-type {\n",
       "        vertical-align: middle;\n",
       "    }\n",
       "\n",
       "    .dataframe tbody tr th {\n",
       "        vertical-align: top;\n",
       "    }\n",
       "\n",
       "    .dataframe thead th {\n",
       "        text-align: right;\n",
       "    }\n",
       "</style>\n",
       "<table border=\"1\" class=\"dataframe\">\n",
       "  <thead>\n",
       "    <tr style=\"text-align: right;\">\n",
       "      <th></th>\n",
       "      <th>Date</th>\n",
       "      <th>Rate</th>\n",
       "    </tr>\n",
       "  </thead>\n",
       "  <tbody>\n",
       "    <tr>\n",
       "      <th>0</th>\n",
       "      <td>2023-12-13</td>\n",
       "      <td>15360</td>\n",
       "    </tr>\n",
       "    <tr>\n",
       "      <th>1</th>\n",
       "      <td>2023-12-12</td>\n",
       "      <td>15576</td>\n",
       "    </tr>\n",
       "    <tr>\n",
       "      <th>2</th>\n",
       "      <td>2023-12-11</td>\n",
       "      <td>15653</td>\n",
       "    </tr>\n",
       "    <tr>\n",
       "      <th>3</th>\n",
       "      <td>2023-12-8</td>\n",
       "      <td>15573</td>\n",
       "    </tr>\n",
       "    <tr>\n",
       "      <th>4</th>\n",
       "      <td>2023-12-7</td>\n",
       "      <td>15507</td>\n",
       "    </tr>\n",
       "  </tbody>\n",
       "</table>\n",
       "</div>"
      ],
      "text/plain": [
       "         Date   Rate\n",
       "0  2023-12-13  15360\n",
       "1  2023-12-12  15576\n",
       "2  2023-12-11  15653\n",
       "3   2023-12-8  15573\n",
       "4   2023-12-7  15507"
      ]
     },
     "execution_count": 56,
     "metadata": {},
     "output_type": "execute_result"
    }
   ],
   "source": [
    "import pandas as pd\n",
    "\n",
    "data = pd.DataFrame(temp, columns= ['Date','Rate'])\n",
    "data.head()"
   ]
  },
  {
   "cell_type": "markdown",
   "metadata": {},
   "source": [
    "ketika dilakukan pengecekan tipe menggunakan .dtypes semua data masih berbentuk object. Maka dari itu perlu penyesuaian tipe menggunakan metode astype untuk merubah tanggal menjadi datetime dan rate menjadi integer. \n",
    "\n",
    "tidak hanya merubah tipe, dilakukan juga metode set_index untuk membuat data tanggal menjadi index pada dataframe. hal ini dilakukan untuk mempermudah pembuatan visualisasi plotting."
   ]
  },
  {
   "cell_type": "code",
   "execution_count": 57,
   "metadata": {
    "ExecuteTime": {
     "end_time": "2020-01-13T05:12:59.165559Z",
     "start_time": "2020-01-13T05:12:58.910012Z"
    }
   },
   "outputs": [
    {
     "data": {
      "text/plain": [
       "Rate    int64\n",
       "dtype: object"
      ]
     },
     "execution_count": 57,
     "metadata": {},
     "output_type": "execute_result"
    }
   ],
   "source": [
    "\n",
    "data['Date'] = data['Date'].astype('datetime64[ns]')\n",
    "data['Rate'] = data['Rate'].astype('int64')\n",
    "data = data.set_index('Date')\n",
    "data.dtypes"
   ]
  },
  {
   "cell_type": "markdown",
   "metadata": {},
   "source": [
    "Untuk memberikan informasi yang berguna kepada pengguna, seperti yang dijelaskan pada latar belakang. dibuatlah data visualisasi data tersebut dengan line chart. alasan line chart sangat cocok untuk data ini adalah karena data berbentuk time-series dimana pengguna ingin melihat perubahan rate secara periodik dan dengan line menjadi sangat terlihat perubahan naik atau turunnya. "
   ]
  },
  {
   "cell_type": "code",
   "execution_count": 58,
   "metadata": {},
   "outputs": [
    {
     "data": {
      "text/plain": [
       "<Axes: xlabel='Date'>"
      ]
     },
     "execution_count": 58,
     "metadata": {},
     "output_type": "execute_result"
    },
    {
     "data": {
      "image/png": "[encoded data removed]",
      "text/plain": [
       "<Figure size 640x480 with 1 Axes>"
      ]
     },
     "metadata": {},
     "output_type": "display_data"
    }
   ],
   "source": [
    "data.plot()"
   ]
  },
  {
   "cell_type": "markdown",
   "metadata": {},
   "source": [
    "Pada data diatas terdapat beberapa poin insight yang dapat diambil dari chart diatas diantaranya:\n",
    "\n",
    "1. Pada bulan July hingga November IDR terlihat melemah terhadap USD\n",
    "2. secara short term terlihat bahwa USD sedang melemah terhadap IDR di bebrapa minggu ini"
   ]
  }
 ],
 "metadata": {
  "kernelspec": {
   "display_name": "cp_webscrape_da",
   "language": "python",
   "name": "python3"
  },
  "language_info": {
   "codemirror_mode": {
    "name": "ipython",
    "version": 3
   },
   "file_extension": ".py",
   "mimetype": "text/x-python",
   "name": "python",
   "nbconvert_exporter": "python",
   "pygments_lexer": "ipython3",
   "version": "3.10.13"
  }
 },
 "nbformat": 4,
 "nbformat_minor": 2
}
